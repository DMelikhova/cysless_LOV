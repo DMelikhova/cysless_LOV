{
 "cells": [
  {
   "cell_type": "code",
   "execution_count": 141,
   "metadata": {
    "collapsed": true
   },
   "outputs": [],
   "source": [
    "from ete3 import Tree"
   ]
  },
  {
   "cell_type": "code",
   "execution_count": 182,
   "metadata": {
    "collapsed": true
   },
   "outputs": [],
   "source": [
    "t = Tree('LOV_tree_1', format=0)"
   ]
  },
  {
   "cell_type": "code",
   "execution_count": 168,
   "metadata": {},
   "outputs": [],
   "source": [
    "s = []\n",
    "for n in t.traverse():\n",
    "    if not n.is_leaf():\n",
    "        if all(child.is_leaf() and round(child.dist, 3) == 0 for child in n.children):\n",
    "            s.append(n.children[0])\n",
    "        else:\n",
    "            for c in n.children:\n",
    "                if c.is_leaf():\n",
    "                    s.append(c)"
   ]
  },
  {
   "cell_type": "code",
   "execution_count": 169,
   "metadata": {
    "collapsed": true
   },
   "outputs": [],
   "source": [
    "names_cl = []\n",
    "with open('tree_cl_not_phylip.fasta', 'r') as f:\n",
    "    for line in map(lambda st: st.rstrip('\\n'), f):\n",
    "        if line.startswith('>'):\n",
    "            names_cl.append(line.lstrip('>'))"
   ]
  },
  {
   "cell_type": "code",
   "execution_count": 165,
   "metadata": {
    "collapsed": true
   },
   "outputs": [],
   "source": [
    "s.extend(names_cl)"
   ]
  },
  {
   "cell_type": "code",
   "execution_count": 171,
   "metadata": {},
   "outputs": [],
   "source": [
    "t.prune(s, preserve_branch_length=True)"
   ]
  },
  {
   "cell_type": "code",
   "execution_count": 189,
   "metadata": {},
   "outputs": [
    {
     "data": {
      "text/plain": [
       "9281"
      ]
     },
     "execution_count": 189,
     "metadata": {},
     "output_type": "execute_result"
    }
   ],
   "source": [
    "len(s)"
   ]
  },
  {
   "cell_type": "code",
   "execution_count": 190,
   "metadata": {},
   "outputs": [
    {
     "data": {
      "text/plain": [
       "8031"
      ]
     },
     "execution_count": 190,
     "metadata": {},
     "output_type": "execute_result"
    }
   ],
   "source": [
    "len(t.get_leaves())"
   ]
  },
  {
   "cell_type": "code",
   "execution_count": 188,
   "metadata": {},
   "outputs": [],
   "source": [
    "with open('LOV_tree_1', 'w') as f:\n",
    "    f.write(t.write())"
   ]
  },
  {
   "cell_type": "code",
   "execution_count": 147,
   "metadata": {},
   "outputs": [],
   "source": [
    "for i in t.iter_descendants():\n",
    "    if not i.is_leaf() and i.support < 0.5:\n",
    "        i.delete()"
   ]
  },
  {
   "cell_type": "code",
   "execution_count": 187,
   "metadata": {
    "collapsed": true
   },
   "outputs": [],
   "source": [
    "for i in t.iter_leaves():\n",
    "    for j in i.get_sisters():\n",
    "        if j.is_leaf() and i.get_distance(j) < 0.015:\n",
    "            i.delete()\n",
    "            break"
   ]
  },
  {
   "cell_type": "markdown",
   "metadata": {},
   "source": [
    "###  Пробное дерево"
   ]
  },
  {
   "cell_type": "code",
   "execution_count": 174,
   "metadata": {},
   "outputs": [],
   "source": [
    "t = Tree('(((H:0,K:0):0.5,(F:1,I:1):0):1,E:2);', format=5)"
   ]
  },
  {
   "cell_type": "code",
   "execution_count": 99,
   "metadata": {},
   "outputs": [],
   "source": [
    "with open('LOV_tree_2', 'r') as f:\n",
    "    line = f.readline()"
   ]
  },
  {
   "cell_type": "code",
   "execution_count": 105,
   "metadata": {},
   "outputs": [],
   "source": [
    "l = line.split(':')\n",
    "l = [i.split(',') for i in l]"
   ]
  },
  {
   "cell_type": "code",
   "execution_count": 81,
   "metadata": {},
   "outputs": [
    {
     "name": "stdout",
     "output_type": "stream",
     "text": [
      "(((F:1,I:1)1:0,H:0.5)1:1,E:2);\n"
     ]
    }
   ],
   "source": [
    "print(t.write())"
   ]
  },
  {
   "cell_type": "code",
   "execution_count": 156,
   "metadata": {},
   "outputs": [],
   "source": [
    "t.up"
   ]
  },
  {
   "cell_type": "code",
   "execution_count": 179,
   "metadata": {},
   "outputs": [
    {
     "name": "stdout",
     "output_type": "stream",
     "text": [
      "H [Tree node 'K' (0x7f34d336bc5)]\n",
      "K [Tree node 'H' (-0x7ffff80cb2cc9438)]\n",
      "F [Tree node 'I' (-0x7ffff80cb2cc9470)]\n",
      "I [Tree node 'F' (0x7f34d336ba9)]\n",
      "E [Tree node '' (-0x7ffff80cb2cc94a1)]\n"
     ]
    }
   ],
   "source": [
    "for i in t.iter_leaves():\n",
    "    print(i.name, i.get_sisters())\n",
    "   "
   ]
  },
  {
   "cell_type": "code",
   "execution_count": 180,
   "metadata": {},
   "outputs": [
    {
     "name": "stdout",
     "output_type": "stream",
     "text": [
      "\n",
      "         /-H\n",
      "      /-|\n",
      "     |   \\-K\n",
      "   /-|\n",
      "  |  |   /-F\n",
      "--|   \\-|\n",
      "  |      \\-I\n",
      "  |\n",
      "   \\-E\n"
     ]
    }
   ],
   "source": [
    "print(t)"
   ]
  },
  {
   "cell_type": "code",
   "execution_count": null,
   "metadata": {
    "collapsed": true
   },
   "outputs": [],
   "source": []
  }
 ],
 "metadata": {
  "kernelspec": {
   "display_name": "Python 3",
   "language": "python",
   "name": "python3"
  },
  "language_info": {
   "codemirror_mode": {
    "name": "ipython",
    "version": 3
   },
   "file_extension": ".py",
   "mimetype": "text/x-python",
   "name": "python",
   "nbconvert_exporter": "python",
   "pygments_lexer": "ipython3",
   "version": "3.5.2"
  }
 },
 "nbformat": 4,
 "nbformat_minor": 2
}
