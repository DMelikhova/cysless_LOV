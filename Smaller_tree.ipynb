{
 "cells": [
  {
   "cell_type": "markdown",
   "metadata": {},
   "source": [
    "## Построение упрощенного дерева"
   ]
  },
  {
   "cell_type": "markdown",
   "metadata": {},
   "source": [
    "Проблема построения филогенетического дерева для большой выборки стоит в вычислительных мощностях и в не удобстве анализирования. Возможным решением взять 10% от всех последовательностей, имеющие максимальный e-value"
   ]
  },
  {
   "cell_type": "code",
   "execution_count": 6,
   "metadata": {
    "collapsed": true
   },
   "outputs": [],
   "source": [
    "import pandas as pd"
   ]
  },
  {
   "cell_type": "code",
   "execution_count": 187,
   "metadata": {
    "collapsed": true
   },
   "outputs": [],
   "source": [
    "data = pd.read_csv('With_Cys_for tree/protisits.csv')"
   ]
  },
  {
   "cell_type": "code",
   "execution_count": 188,
   "metadata": {},
   "outputs": [
    {
     "data": {
      "text/html": [
       "<div>\n",
       "<style scoped>\n",
       "    .dataframe tbody tr th:only-of-type {\n",
       "        vertical-align: middle;\n",
       "    }\n",
       "\n",
       "    .dataframe tbody tr th {\n",
       "        vertical-align: top;\n",
       "    }\n",
       "\n",
       "    .dataframe thead th {\n",
       "        text-align: right;\n",
       "    }\n",
       "</style>\n",
       "<table border=\"1\" class=\"dataframe\">\n",
       "  <thead>\n",
       "    <tr style=\"text-align: right;\">\n",
       "      <th></th>\n",
       "      <th>seq id</th>\n",
       "      <th>alignment start</th>\n",
       "      <th>alignment end</th>\n",
       "      <th>envelope start</th>\n",
       "      <th>envelope end</th>\n",
       "      <th>hmm acc</th>\n",
       "      <th>hmm name</th>\n",
       "      <th>type</th>\n",
       "      <th>hmm start</th>\n",
       "      <th>hmm end</th>\n",
       "      <th>hmm length</th>\n",
       "      <th>bit score</th>\n",
       "      <th>E-value</th>\n",
       "      <th>significance</th>\n",
       "      <th>clan</th>\n",
       "      <th>kingdom</th>\n",
       "    </tr>\n",
       "  </thead>\n",
       "  <tbody>\n",
       "    <tr>\n",
       "      <th>0</th>\n",
       "      <td>A0A0L0FZB2</td>\n",
       "      <td>24</td>\n",
       "      <td>120</td>\n",
       "      <td>15</td>\n",
       "      <td>121</td>\n",
       "      <td>PF13426.7</td>\n",
       "      <td>LOV</td>\n",
       "      <td>Domain</td>\n",
       "      <td>7</td>\n",
       "      <td>103</td>\n",
       "      <td>104</td>\n",
       "      <td>53.7</td>\n",
       "      <td>2.000000e-14</td>\n",
       "      <td>1</td>\n",
       "      <td>CL0183</td>\n",
       "      <td>Eukaryota Ichthyosporea</td>\n",
       "    </tr>\n",
       "    <tr>\n",
       "      <th>1</th>\n",
       "      <td>A0A126X2D8</td>\n",
       "      <td>360</td>\n",
       "      <td>402</td>\n",
       "      <td>357</td>\n",
       "      <td>404</td>\n",
       "      <td>PF07716.15</td>\n",
       "      <td>bZIP_2</td>\n",
       "      <td>Family</td>\n",
       "      <td>6</td>\n",
       "      <td>48</td>\n",
       "      <td>54</td>\n",
       "      <td>28.2</td>\n",
       "      <td>1.400000e-06</td>\n",
       "      <td>1</td>\n",
       "      <td>CL0018</td>\n",
       "      <td>Eukaryota Stramenopiles</td>\n",
       "    </tr>\n",
       "    <tr>\n",
       "      <th>2</th>\n",
       "      <td>A0A126X2D8</td>\n",
       "      <td>521</td>\n",
       "      <td>611</td>\n",
       "      <td>513</td>\n",
       "      <td>616</td>\n",
       "      <td>PF13426.7</td>\n",
       "      <td>LOV</td>\n",
       "      <td>Domain</td>\n",
       "      <td>7</td>\n",
       "      <td>97</td>\n",
       "      <td>104</td>\n",
       "      <td>54.1</td>\n",
       "      <td>1.500000e-14</td>\n",
       "      <td>1</td>\n",
       "      <td>CL0183</td>\n",
       "      <td>Eukaryota Stramenopiles</td>\n",
       "    </tr>\n",
       "    <tr>\n",
       "      <th>3</th>\n",
       "      <td>A0A126WYE7</td>\n",
       "      <td>241</td>\n",
       "      <td>327</td>\n",
       "      <td>232</td>\n",
       "      <td>336</td>\n",
       "      <td>PF13426.7</td>\n",
       "      <td>PAS_9</td>\n",
       "      <td>Domain</td>\n",
       "      <td>8</td>\n",
       "      <td>94</td>\n",
       "      <td>104</td>\n",
       "      <td>24.7</td>\n",
       "      <td>2.100000e-05</td>\n",
       "      <td>1</td>\n",
       "      <td>CL0183</td>\n",
       "      <td>Eukaryota Stramenopiles</td>\n",
       "    </tr>\n",
       "    <tr>\n",
       "      <th>4</th>\n",
       "      <td>A0A126WYE7</td>\n",
       "      <td>472</td>\n",
       "      <td>595</td>\n",
       "      <td>472</td>\n",
       "      <td>596</td>\n",
       "      <td>PF00615.19</td>\n",
       "      <td>RGS</td>\n",
       "      <td>Domain</td>\n",
       "      <td>1</td>\n",
       "      <td>117</td>\n",
       "      <td>118</td>\n",
       "      <td>25.7</td>\n",
       "      <td>1.100000e-05</td>\n",
       "      <td>1</td>\n",
       "      <td>CL0272</td>\n",
       "      <td>Eukaryota Stramenopiles</td>\n",
       "    </tr>\n",
       "  </tbody>\n",
       "</table>\n",
       "</div>"
      ],
      "text/plain": [
       "       seq id  alignment start  alignment end  envelope start  envelope end  \\\n",
       "0  A0A0L0FZB2               24            120              15           121   \n",
       "1  A0A126X2D8              360            402             357           404   \n",
       "2  A0A126X2D8              521            611             513           616   \n",
       "3  A0A126WYE7              241            327             232           336   \n",
       "4  A0A126WYE7              472            595             472           596   \n",
       "\n",
       "      hmm acc hmm name    type  hmm start  hmm end  hmm length  bit score  \\\n",
       "0   PF13426.7      LOV  Domain          7      103         104       53.7   \n",
       "1  PF07716.15   bZIP_2  Family          6       48          54       28.2   \n",
       "2   PF13426.7      LOV  Domain          7       97         104       54.1   \n",
       "3   PF13426.7    PAS_9  Domain          8       94         104       24.7   \n",
       "4  PF00615.19      RGS  Domain          1      117         118       25.7   \n",
       "\n",
       "        E-value  significance    clan                  kingdom  \n",
       "0  2.000000e-14             1  CL0183  Eukaryota Ichthyosporea  \n",
       "1  1.400000e-06             1  CL0018  Eukaryota Stramenopiles  \n",
       "2  1.500000e-14             1  CL0183  Eukaryota Stramenopiles  \n",
       "3  2.100000e-05             1  CL0183  Eukaryota Stramenopiles  \n",
       "4  1.100000e-05             1  CL0272  Eukaryota Stramenopiles  "
      ]
     },
     "execution_count": 188,
     "metadata": {},
     "output_type": "execute_result"
    }
   ],
   "source": [
    "data.drop('Unnamed: 0', axis = 1, inplace = True)\n",
    "data.head()"
   ]
  },
  {
   "cell_type": "code",
   "execution_count": 193,
   "metadata": {
    "collapsed": true
   },
   "outputs": [],
   "source": [
    "d = data[(data['hmm name'] == 'LOV')].sort_values('E-value')"
   ]
  },
  {
   "cell_type": "markdown",
   "metadata": {},
   "source": [
    "Для архей отсев прошел по границе e-value < 1e-23\n",
    "\n",
    "Для бактерий e-value < 1e-22\n",
    "\n",
    "Для грибов e-value < 1e-17\n",
    "\n",
    "Для растений e-value < 1e-20\n",
    "\n",
    "Для протист e-value < 1e-17"
   ]
  },
  {
   "cell_type": "code",
   "execution_count": 196,
   "metadata": {
    "collapsed": true
   },
   "outputs": [],
   "source": [
    "d = d[d['E-value'] < 1e-17]"
   ]
  },
  {
   "cell_type": "code",
   "execution_count": 197,
   "metadata": {
    "collapsed": true
   },
   "outputs": [],
   "source": [
    "names = d['seq id']"
   ]
  },
  {
   "cell_type": "code",
   "execution_count": 198,
   "metadata": {
    "collapsed": true
   },
   "outputs": [],
   "source": [
    "data = data.loc[data['seq id'].isin(list(names))]"
   ]
  },
  {
   "cell_type": "code",
   "execution_count": 199,
   "metadata": {
    "collapsed": true
   },
   "outputs": [],
   "source": [
    "tfile = open('With_Cys_for tree/protisits.csv', 'w')\n",
    "tfile.write(data.to_csv())\n",
    "tfile.close()"
   ]
  },
  {
   "cell_type": "code",
   "execution_count": 195,
   "metadata": {},
   "outputs": [
    {
     "data": {
      "text/plain": [
       "(21, 16)"
      ]
     },
     "execution_count": 195,
     "metadata": {},
     "output_type": "execute_result"
    }
   ],
   "source": [
    "d.shape"
   ]
  },
  {
   "cell_type": "markdown",
   "metadata": {},
   "source": [
    "Собираем файл фаста для выравнивания, не забываем, что необходим так же формат PHYLIP, поэтому имена должный быть не больше 10 знаков, составим общую csv таблицу\n"
   ]
  },
  {
   "cell_type": "code",
   "execution_count": 3,
   "metadata": {
    "collapsed": true
   },
   "outputs": [],
   "source": [
    "import glob, os\n",
    "os.chdir(\"/home/dmelikhova/projects/190115_cysless_lov/With_Cys_for_tree/\")\n",
    "files = glob.glob(\"*.csv\")"
   ]
  },
  {
   "cell_type": "code",
   "execution_count": 26,
   "metadata": {},
   "outputs": [
    {
     "data": {
      "text/plain": [
       "'domains_LOV_1_new.csv'"
      ]
     },
     "execution_count": 26,
     "metadata": {},
     "output_type": "execute_result"
    }
   ],
   "source": [
    "files.pop(0)\n",
    "files.pop(0)\n",
    "files.pop(2)\n",
    "files.pop(4)"
   ]
  },
  {
   "cell_type": "code",
   "execution_count": 4,
   "metadata": {
    "collapsed": true
   },
   "outputs": [],
   "source": [
    "files = ['domains_LOV_1_cl.csv', 'domains_LOV_2_cl.csv', 'domains_LOV_3_cl.csv', 'domains_LOV_4_cl.csv']"
   ]
  },
  {
   "cell_type": "code",
   "execution_count": 7,
   "metadata": {},
   "outputs": [],
   "source": [
    "data = pd.DataFrame(columns=['seq id', 'alignment start', 'alignment end', 'envelope start', 'envelope end',\n",
    "                            'hmm acc', 'hmm name', 'type', 'hmm start', 'hmm end', 'hmm length', 'bit score',\n",
    "                            'E-value', 'significance', 'clan', 'kingdom'])\n"
   ]
  },
  {
   "cell_type": "code",
   "execution_count": 8,
   "metadata": {
    "collapsed": true
   },
   "outputs": [],
   "source": [
    "for file in files:\n",
    "    d = pd.read_csv('/home/dmelikhova/projects/190115_cysless_lov/' + file)\n",
    "    data = pd.concat([data, d])"
   ]
  },
  {
   "cell_type": "code",
   "execution_count": 9,
   "metadata": {},
   "outputs": [
    {
     "data": {
      "text/html": [
       "<div>\n",
       "<style scoped>\n",
       "    .dataframe tbody tr th:only-of-type {\n",
       "        vertical-align: middle;\n",
       "    }\n",
       "\n",
       "    .dataframe tbody tr th {\n",
       "        vertical-align: top;\n",
       "    }\n",
       "\n",
       "    .dataframe thead th {\n",
       "        text-align: right;\n",
       "    }\n",
       "</style>\n",
       "<table border=\"1\" class=\"dataframe\">\n",
       "  <thead>\n",
       "    <tr style=\"text-align: right;\">\n",
       "      <th></th>\n",
       "      <th>seq id</th>\n",
       "      <th>alignment start</th>\n",
       "      <th>alignment end</th>\n",
       "      <th>envelope start</th>\n",
       "      <th>envelope end</th>\n",
       "      <th>hmm acc</th>\n",
       "      <th>hmm name</th>\n",
       "      <th>type</th>\n",
       "      <th>hmm start</th>\n",
       "      <th>hmm end</th>\n",
       "      <th>hmm length</th>\n",
       "      <th>bit score</th>\n",
       "      <th>E-value</th>\n",
       "      <th>significance</th>\n",
       "      <th>clan</th>\n",
       "      <th>kingdom</th>\n",
       "    </tr>\n",
       "  </thead>\n",
       "  <tbody>\n",
       "    <tr>\n",
       "      <th>0</th>\n",
       "      <td>A0A0N0BRB8</td>\n",
       "      <td>18</td>\n",
       "      <td>105</td>\n",
       "      <td>14</td>\n",
       "      <td>116</td>\n",
       "      <td>PF00072.24</td>\n",
       "      <td>Response_reg</td>\n",
       "      <td>Domain</td>\n",
       "      <td>14</td>\n",
       "      <td>102</td>\n",
       "      <td>112</td>\n",
       "      <td>45.5</td>\n",
       "      <td>7.100000e-12</td>\n",
       "      <td>1</td>\n",
       "      <td>CL0304</td>\n",
       "      <td>Archaea Euryarchaeota</td>\n",
       "    </tr>\n",
       "    <tr>\n",
       "      <th>1</th>\n",
       "      <td>A0A0N0BRB8</td>\n",
       "      <td>152</td>\n",
       "      <td>256</td>\n",
       "      <td>150</td>\n",
       "      <td>256</td>\n",
       "      <td>PF13426.7</td>\n",
       "      <td>LOV</td>\n",
       "      <td>Domain</td>\n",
       "      <td>3</td>\n",
       "      <td>104</td>\n",
       "      <td>104</td>\n",
       "      <td>73.3</td>\n",
       "      <td>1.500000e-20</td>\n",
       "      <td>1</td>\n",
       "      <td>CL0183</td>\n",
       "      <td>Archaea Euryarchaeota</td>\n",
       "    </tr>\n",
       "    <tr>\n",
       "      <th>2</th>\n",
       "      <td>A0A0N0BRB8</td>\n",
       "      <td>304</td>\n",
       "      <td>435</td>\n",
       "      <td>299</td>\n",
       "      <td>436</td>\n",
       "      <td>PF13185.6</td>\n",
       "      <td>GAF_2</td>\n",
       "      <td>Domain</td>\n",
       "      <td>6</td>\n",
       "      <td>137</td>\n",
       "      <td>138</td>\n",
       "      <td>36.8</td>\n",
       "      <td>4.300000e-09</td>\n",
       "      <td>1</td>\n",
       "      <td>CL0161</td>\n",
       "      <td>Archaea Euryarchaeota</td>\n",
       "    </tr>\n",
       "    <tr>\n",
       "      <th>3</th>\n",
       "      <td>A0A0N0BRB8</td>\n",
       "      <td>447</td>\n",
       "      <td>600</td>\n",
       "      <td>447</td>\n",
       "      <td>600</td>\n",
       "      <td>PF15915.5</td>\n",
       "      <td>BAT</td>\n",
       "      <td>Domain</td>\n",
       "      <td>1</td>\n",
       "      <td>156</td>\n",
       "      <td>156</td>\n",
       "      <td>119.6</td>\n",
       "      <td>1.100000e-34</td>\n",
       "      <td>1</td>\n",
       "      <td>No_clan</td>\n",
       "      <td>Archaea Euryarchaeota</td>\n",
       "    </tr>\n",
       "    <tr>\n",
       "      <th>4</th>\n",
       "      <td>A0A0N0BRB8</td>\n",
       "      <td>606</td>\n",
       "      <td>658</td>\n",
       "      <td>606</td>\n",
       "      <td>658</td>\n",
       "      <td>PF04967.12</td>\n",
       "      <td>HTH_10</td>\n",
       "      <td>Domain</td>\n",
       "      <td>1</td>\n",
       "      <td>53</td>\n",
       "      <td>53</td>\n",
       "      <td>71.5</td>\n",
       "      <td>3.600000e-20</td>\n",
       "      <td>1</td>\n",
       "      <td>CL0123</td>\n",
       "      <td>Archaea Euryarchaeota</td>\n",
       "    </tr>\n",
       "  </tbody>\n",
       "</table>\n",
       "</div>"
      ],
      "text/plain": [
       "       seq id alignment start alignment end envelope start envelope end  \\\n",
       "0  A0A0N0BRB8              18           105             14          116   \n",
       "1  A0A0N0BRB8             152           256            150          256   \n",
       "2  A0A0N0BRB8             304           435            299          436   \n",
       "3  A0A0N0BRB8             447           600            447          600   \n",
       "4  A0A0N0BRB8             606           658            606          658   \n",
       "\n",
       "      hmm acc      hmm name    type hmm start hmm end hmm length  bit score  \\\n",
       "0  PF00072.24  Response_reg  Domain        14     102        112       45.5   \n",
       "1   PF13426.7           LOV  Domain         3     104        104       73.3   \n",
       "2   PF13185.6         GAF_2  Domain         6     137        138       36.8   \n",
       "3   PF15915.5           BAT  Domain         1     156        156      119.6   \n",
       "4  PF04967.12        HTH_10  Domain         1      53         53       71.5   \n",
       "\n",
       "        E-value significance     clan                kingdom  \n",
       "0  7.100000e-12            1   CL0304  Archaea Euryarchaeota  \n",
       "1  1.500000e-20            1   CL0183  Archaea Euryarchaeota  \n",
       "2  4.300000e-09            1   CL0161  Archaea Euryarchaeota  \n",
       "3  1.100000e-34            1  No_clan  Archaea Euryarchaeota  \n",
       "4  3.600000e-20            1   CL0123  Archaea Euryarchaeota  "
      ]
     },
     "execution_count": 9,
     "metadata": {},
     "output_type": "execute_result"
    }
   ],
   "source": [
    "data.head()"
   ]
  },
  {
   "cell_type": "code",
   "execution_count": 37,
   "metadata": {
    "collapsed": true
   },
   "outputs": [],
   "source": [
    "tfile = open('/home/dmelikhova/projects/190115_cysless_lov/With_Cys_for_tree/data_for_tree.csv', 'w')\n",
    "tfile.write(data.to_csv())\n",
    "tfile.close()"
   ]
  },
  {
   "cell_type": "code",
   "execution_count": 10,
   "metadata": {
    "collapsed": true
   },
   "outputs": [],
   "source": [
    "data = data.reset_index(drop=True)"
   ]
  },
  {
   "cell_type": "code",
   "execution_count": 1,
   "metadata": {
    "collapsed": true
   },
   "outputs": [],
   "source": [
    "with open('/home/dmelikhova/projects/190115_cysless_lov/final_proteins_cl.fasta','r') as f:\n",
    "    fasta = {}\n",
    "    for line in map(lambda st: st.rstrip('\\n'), f):\n",
    "        if line.startswith('>'):\n",
    "            name = line.lstrip('>')\n",
    "        else:\n",
    "            fasta.setdefault(name, []).append(line)"
   ]
  },
  {
   "cell_type": "code",
   "execution_count": 11,
   "metadata": {},
   "outputs": [],
   "source": [
    "data_LOV = data[data['hmm name'] == 'LOV'].reset_index(drop = True)\n",
    "data_TLOV = data[data['hmm name'] == 'TLOV'].reset_index(drop = True)\n",
    "data_LOV_ = data[data['hmm name'] == '_LOV'].reset_index(drop = True)"
   ]
  },
  {
   "cell_type": "code",
   "execution_count": 12,
   "metadata": {
    "collapsed": true
   },
   "outputs": [],
   "source": [
    "new_fasta = {}\n",
    "for k,v in fasta.items():\n",
    "    if k in list(data_LOV['seq id']):\n",
    "        for n in range(data_LOV.loc[data_LOV['seq id'] == k, 'envelope start'].shape[0]): \n",
    "            i, j = (int(data_LOV.loc[data_LOV['seq id'] == k, 'envelope start'].reset_index(drop = True)[n]), \n",
    "                    int(data_LOV.loc[data_LOV['seq id'] == k, 'envelope end'].reset_index(drop = True)[n]))\n",
    "            LOV = ''.join(v)[i-1: j]\n",
    "            new_fasta['>' + k + str(n)] = LOV\n",
    "for k,v in fasta.items():\n",
    "    if k in list(data_TLOV['seq id']):\n",
    "        i, j = (int(data_TLOV.loc[data_TLOV['seq id'] == k, 'envelope start'].reset_index(drop = True)[n]), \n",
    "                 int(data_TLOV.loc[data_TLOV['seq id'] == k, 'envelope end'].reset_index(drop = True)[n]))\n",
    "        LOV = ''.join(v)[i-1: j]\n",
    "        new_fasta['>' + k + 'T1'] = LOV\n",
    "for k,v in fasta.items():\n",
    "    if k in list(data_LOV_['seq id']):\n",
    "        i, j = (int(data_LOV_.loc[data_LOV_['seq id'] == k, 'envelope start'].reset_index(drop = True)[n]), \n",
    "                int(data_LOV_.loc[data_LOV_['seq id'] == k, 'envelope end'].reset_index(drop = True)[n]))\n",
    "        LOV = ''.join(v)[i-1: j]\n",
    "        new_fasta['>' + k + 'T2'] = LOV"
   ]
  },
  {
   "cell_type": "code",
   "execution_count": 159,
   "metadata": {
    "collapsed": true
   },
   "outputs": [],
   "source": [
    "for k in new_fasta.keys():\n",
    "    if len(k) > 11:\n",
    "        new_fasta['>'+ k[3:]] = new_fasta.pop(k)"
   ]
  },
  {
   "cell_type": "code",
   "execution_count": 160,
   "metadata": {
    "collapsed": true
   },
   "outputs": [],
   "source": [
    "for k in new_fasta.keys():\n",
    "    if len(k) > 11:\n",
    "        print(k)"
   ]
  },
  {
   "cell_type": "code",
   "execution_count": 158,
   "metadata": {
    "collapsed": true
   },
   "outputs": [],
   "source": [
    "new_fasta['>A1Z4HNP10'] = new_fasta.pop('>A0A1Z4HNP10')"
   ]
  },
  {
   "cell_type": "code",
   "execution_count": 67,
   "metadata": {},
   "outputs": [
    {
     "data": {
      "text/plain": [
       "'A1M5G3X30'"
      ]
     },
     "execution_count": 67,
     "metadata": {},
     "output_type": "execute_result"
    }
   ],
   "source": [
    "'>A0A1M5G3X30'[3:]"
   ]
  },
  {
   "cell_type": "code",
   "execution_count": 13,
   "metadata": {},
   "outputs": [
    {
     "data": {
      "text/plain": [
       "220"
      ]
     },
     "execution_count": 13,
     "metadata": {},
     "output_type": "execute_result"
    }
   ],
   "source": [
    "len(new_fasta)"
   ]
  },
  {
   "cell_type": "code",
   "execution_count": 14,
   "metadata": {
    "collapsed": true
   },
   "outputs": [],
   "source": [
    "new_file = []\n",
    "for k, v in new_fasta.items():\n",
    "    new_file.append(k + '\\n')\n",
    "    new_file.append(v + '\\n')"
   ]
  },
  {
   "cell_type": "code",
   "execution_count": 15,
   "metadata": {
    "collapsed": true
   },
   "outputs": [],
   "source": [
    "with open('/home/dmelikhova/projects/190115_cysless_lov/tree_cl_not_phylip.fasta', 'w') as f:\n",
    "    f.write(''.join(new_file))"
   ]
  },
  {
   "cell_type": "code",
   "execution_count": 125,
   "metadata": {},
   "outputs": [
    {
     "data": {
      "text/plain": [
       "0"
      ]
     },
     "execution_count": 125,
     "metadata": {},
     "output_type": "execute_result"
    }
   ],
   "source": [
    "len(new_fasta)"
   ]
  },
  {
   "cell_type": "markdown",
   "metadata": {},
   "source": [
    "Раскрасим в полученнном дереве цистеиновые остатки"
   ]
  },
  {
   "cell_type": "code",
   "execution_count": 164,
   "metadata": {
    "collapsed": true
   },
   "outputs": [],
   "source": [
    "#tree_cl содержит последовательности с измененными именами для безцистеиновых ловов\n",
    "with open('/home/dmelikhova/projects/190115_cysless_lov/tree_cl.fasta','r') as f:\n",
    "    fasta = {}\n",
    "    for line in map(lambda st: st.rstrip('\\n'), f):\n",
    "        if line.startswith('>'):\n",
    "            name = line.lstrip('>')\n",
    "        else:\n",
    "            fasta.setdefault(name, []).append(line)"
   ]
  },
  {
   "cell_type": "code",
   "execution_count": 167,
   "metadata": {},
   "outputs": [
    {
     "name": "stdout",
     "output_type": "stream",
     "text": [
      "A285MUA00\tred\ttoroot\n",
      "A1X4GBI90\tred\ttoroot\n",
      "A2D8CZZ10\tred\ttoroot\n",
      "M0D0B10\tred\ttoroot\n",
      "A252DKD40\tred\ttoroot\n",
      "A1G7KVI50\tred\ttoroot\n",
      "M0EVT30\tred\ttoroot\n",
      "A101D4P00\tred\ttoroot\n",
      "A126WX770\tred\ttoroot\n",
      "A4TY700\tred\ttoroot\n",
      "M1XS320\tred\ttoroot\n",
      "A2P7R4D50\tred\ttoroot\n",
      "A2R6F6430\tred\ttoroot\n",
      "A2W4P6990\tred\ttoroot\n",
      "A0C2YV270\tred\ttoroot\n",
      "C6HXY90\tred\ttoroot\n",
      "B0R5N60\tred\ttoroot\n",
      "A2T1KTE50\tred\ttoroot\n",
      "A1Z4UFN50\tred\ttoroot\n",
      "A1Z4KTG30\tred\ttoroot\n",
      "M0DQM90\tred\ttoroot\n",
      "A126WVX20\tred\ttoroot\n",
      "A250KTS60\tred\ttoroot\n",
      "A256HJZ80\tred\ttoroot\n",
      "A086WFV90\tred\ttoroot\n",
      "M0PQ370\tred\ttoroot\n",
      "A256I8X30\tred\ttoroot\n",
      "A0U3IE240\tred\ttoroot\n",
      "M0NUF30\tred\ttoroot\n",
      "A1F4A9A40\tred\ttoroot\n",
      "U7G3B40\tred\ttoroot\n",
      "A256H8K60\tred\ttoroot\n",
      "A1I7LB450\tred\ttoroot\n",
      "A1Z4GNL10\tred\ttoroot\n",
      "A238W3F50\tred\ttoroot\n",
      "A256IHV40\tred\ttoroot\n",
      "A0D5N8D70\tred\ttoroot\n",
      "A1H3HFD70\tred\ttoroot\n",
      "A2T2V0L60\tred\ttoroot\n",
      "A2S8ESS10\tred\ttoroot\n",
      "A0U5MKD50\tred\ttoroot\n",
      "A068YUC80\tred\ttoroot\n",
      "A256IB300\tred\ttoroot\n",
      "A2T1DAT10\tred\ttoroot\n",
      "A256II670\tred\ttoroot\n",
      "A1H1QY270\tred\ttoroot\n",
      "A1I3IR900\tred\ttoroot\n",
      "A256HIR10\tred\ttoroot\n",
      "A0N9MTI70\tred\ttoroot\n",
      "A1H6SP530\tred\ttoroot\n",
      "M7MMR60\tred\ttoroot\n",
      "A0B6530\tred\ttoroot\n",
      "A2G1X1D50\tred\ttoroot\n",
      "A0N9MZ860\tred\ttoroot\n",
      "A0H4I0C10\tred\ttoroot\n",
      "L8MY360\tred\ttoroot\n",
      "K9ZLV90\tred\ttoroot\n",
      "A0N0BRB80\tred\ttoroot\n",
      "A256ITL50\tred\ttoroot\n",
      "A256K3M50\tred\ttoroot\n",
      "A1Z8A6E50\tred\ttoroot\n",
      "A062BR530\tred\ttoroot\n",
      "A2R4CG390\tred\ttoroot\n",
      "A256H7J70\tred\ttoroot\n",
      "A0S3U7K10\tred\ttoroot\n",
      "M0NXY40\tred\ttoroot\n",
      "A0Q6W0700\tred\ttoroot\n",
      "A178MSM20\tred\ttoroot\n",
      "M0JHD80\tred\ttoroot\n",
      "A256HF660\tred\ttoroot\n",
      "A1Y5GIS00\tred\ttoroot\n",
      "A1F2ZV650\tred\ttoroot\n",
      "A0C1TZX70\tred\ttoroot\n",
      "A2R6MNC90\tred\ttoroot\n",
      "A2T2V3W50\tred\ttoroot\n",
      "G3IYB40\tred\ttoroot\n",
      "K9VN580\tred\ttoroot\n",
      "A1Z4JAJ90\tred\ttoroot\n",
      "V6EZ670\tred\ttoroot\n",
      "K9SC950\tred\ttoroot\n",
      "M0NXF10\tred\ttoroot\n",
      "A073CYU90\tred\ttoroot\n",
      "A2R6L2A80\tred\ttoroot\n",
      "A1J5GL190\tred\ttoroot\n",
      "Q9HPU80\tred\ttoroot\n",
      "A0Q8QBZ60\tred\ttoroot\n",
      "A251X7D90\tred\ttoroot\n",
      "W9H3B40\tred\ttoroot\n",
      "E4NMD10\tred\ttoroot\n",
      "A1J1K0400\tred\ttoroot\n",
      "A1H3DIY90\tred\ttoroot\n",
      "A0A6RI810\tred\ttoroot\n",
      "F7SMS10\tred\ttoroot\n",
      "A1F4AKZ50\tred\ttoroot\n",
      "A0E9K1320\tred\ttoroot\n",
      "A0M2VCH20\tred\ttoroot\n",
      "A2R6DPF00\tred\ttoroot\n",
      "A1J1K1T20\tred\ttoroot\n",
      "C1CYA50\tred\ttoroot\n",
      "A0H4I6P80\tred\ttoroot\n",
      "A0Q6WCE00\tred\ttoroot\n",
      "U1NSI00\tred\ttoroot\n",
      "A256I1W50\tred\ttoroot\n",
      "A126T3K60\tred\ttoroot\n",
      "A1C0VQ400\tred\ttoroot\n",
      "A1Y6CTR40\tred\ttoroot\n",
      "A256HDW90\tred\ttoroot\n",
      "A2T5SNI40\tred\ttoroot\n",
      "M0EMA90\tred\ttoroot\n",
      "A3JIW60\tred\ttoroot\n",
      "Q2W4Y00\tred\ttoroot\n",
      "A2E1XWH70\tred\ttoroot\n",
      "V2UQP70\tred\ttoroot\n",
      "M0KC560\tred\ttoroot\n",
      "A1J1JGP60\tred\ttoroot\n",
      "Q3MFG50\tred\ttoroot\n",
      "U7QAD20\tred\ttoroot\n",
      "A2G1WUP50\tred\ttoroot\n",
      "M0JX420\tred\ttoroot\n",
      "K9QU670\tred\ttoroot\n",
      "M0EAL10\tred\ttoroot\n",
      "A126X4500\tred\ttoroot\n",
      "A2E2AWJ80\tred\ttoroot\n",
      "K9WJW90\tred\ttoroot\n",
      "A2V7V7T20\tred\ttoroot\n",
      "A1H1I1R60\tred\ttoroot\n",
      "A239RRF90\tred\ttoroot\n",
      "A0A0C3K70\tred\ttoroot\n",
      "A1Z4I3280\tred\ttoroot\n",
      "M0FIW00\tred\ttoroot\n",
      "A1H3HH780\tred\ttoroot\n",
      "A256HT100\tred\ttoroot\n",
      "A2T1DCE60\tred\ttoroot\n",
      "A0D6KSE90\tred\ttoroot\n",
      "M1F9V60\tred\ttoroot\n",
      "A1T4ZHA40\tred\ttoroot\n",
      "A256HHV30\tred\ttoroot\n",
      "R9LFR40\tred\ttoroot\n",
      "A1F4MR670\tred\ttoroot\n",
      "N8NWV80\tred\ttoroot\n",
      "A1W6CL060\tred\ttoroot\n",
      "A1X4GKW60\tred\ttoroot\n",
      "Q74FX80\tred\ttoroot\n",
      "K9Q8K20\tred\ttoroot\n",
      "E4U0K30\tred\ttoroot\n",
      "A2I8VG700\tred\ttoroot\n",
      "A2R6IVZ20\tred\ttoroot\n",
      "A2R6L0970\tred\ttoroot\n",
      "A0F7PGH00\tred\ttoroot\n",
      "A1F3YM950\tred\ttoroot\n",
      "A177LY070\tred\ttoroot\n",
      "A1F4DFV00\tred\ttoroot\n",
      "E6XF720\tred\ttoroot\n",
      "F5UBY60\tred\ttoroot\n",
      "A2W4QJ370\tred\ttoroot\n",
      "A0YYE00\tred\ttoroot\n",
      "A7U0Y30\tred\ttoroot\n",
      "A1V3SGH40\tred\ttoroot\n",
      "A1J5BML20\tred\ttoroot\n",
      "A1Y3A8D40\tred\ttoroot\n",
      "A1G7H4D10\tred\ttoroot\n",
      "A0P4UZG90\tred\ttoroot\n",
      "M2ZV600\tred\ttoroot\n",
      "A238V7160\tred\ttoroot\n",
      "A2T5SX150\tred\ttoroot\n",
      "A1J1KQV70\tred\ttoroot\n",
      "A252DP480\tred\ttoroot\n",
      "A0F7PAY00\tred\ttoroot\n",
      "A011QGB60\tred\ttoroot\n",
      "A1F3ZBY90\tred\ttoroot\n",
      "A2R6HMM80\tred\ttoroot\n",
      "A1Z4M4D20\tred\ttoroot\n",
      "K9PQB90\tred\ttoroot\n",
      "A098S0G60\tred\ttoroot\n",
      "A2S6H3D40\tred\ttoroot\n",
      "A1Z4MX760\tred\ttoroot\n",
      "A2W7AI520\tred\ttoroot\n",
      "A1Z4HNP10\tred\ttoroot\n",
      "A1I6G6V80\tred\ttoroot\n",
      "A1G3DN990\tred\ttoroot\n",
      "A139WYI30\tred\ttoroot\n",
      "L0ALW40\tred\ttoroot\n",
      "E8WMC90\tred\ttoroot\n",
      "A1I6FLQ20\tred\ttoroot\n",
      "M0F4R60\tred\ttoroot\n",
      "M1F9800\tred\ttoroot\n",
      "A2T1FL270\tred\ttoroot\n",
      "A1H3HZ570\tred\ttoroot\n",
      "A1I6WAT90\tred\ttoroot\n",
      "A2G8TF680\tred\ttoroot\n",
      "A1I7IIR40\tred\ttoroot\n",
      "Q2SFK10\tred\ttoroot\n",
      "A256I5900\tred\ttoroot\n",
      "U7QJX50\tred\ttoroot\n",
      "A2A9FRX60\tred\ttoroot\n",
      "A1M5M0R70\tred\ttoroot\n",
      "A0Q7EDV60\tred\ttoroot\n",
      "A2S5AFH00\tred\ttoroot\n",
      "A0C1YGA30\tred\ttoroot\n",
      "A250KUR40\tred\ttoroot\n",
      "N9KQ400\tred\ttoroot\n",
      "A259W0K50\tred\ttoroot\n",
      "A1H5X8A60\tred\ttoroot\n",
      "U7QM160\tred\ttoroot\n",
      "M1FER50\tred\ttoroot\n",
      "A1G5QKR40\tred\ttoroot\n",
      "M0PJ890\tred\ttoroot\n",
      "G4E1Z10\tred\ttoroot\n",
      "A0Q7FL640\tred\ttoroot\n",
      "A1Y3D9470\tred\ttoroot\n",
      "A256HHY40\tred\ttoroot\n",
      "A2S2DEX30\tred\ttoroot\n",
      "Q8YXI40\tred\ttoroot\n",
      "A1J1LSJ50\tred\ttoroot\n",
      "C6IY910\tred\ttoroot\n",
      "A2A5CHV00\tred\ttoroot\n",
      "A0P4UU600\tred\ttoroot\n",
      "A1Y3AJD60\tred\ttoroot\n",
      "A2R6DCX80\tred\ttoroot\n",
      "A1H6W0S70\tred\ttoroot\n"
     ]
    }
   ],
   "source": [
    "for k in fasta.keys():\n",
    "    print(k + '\\t' + 'red\\ttoroot')"
   ]
  },
  {
   "cell_type": "code",
   "execution_count": 168,
   "metadata": {},
   "outputs": [
    {
     "ename": "ImportError",
     "evalue": "cannot import name 'TreeStyle'",
     "output_type": "error",
     "traceback": [
      "\u001b[0;31m---------------------------------------------------------------------------\u001b[0m",
      "\u001b[0;31mImportError\u001b[0m                               Traceback (most recent call last)",
      "\u001b[0;32m<ipython-input-168-6c7177229f51>\u001b[0m in \u001b[0;36m<module>\u001b[0;34m()\u001b[0m\n\u001b[0;32m----> 1\u001b[0;31m \u001b[0;32mfrom\u001b[0m \u001b[0mete3\u001b[0m \u001b[0;32mimport\u001b[0m \u001b[0mPhyloTree\u001b[0m\u001b[0;34m,\u001b[0m \u001b[0mTreeStyle\u001b[0m\u001b[0;34m\u001b[0m\u001b[0m\n\u001b[0m",
      "\u001b[0;31mImportError\u001b[0m: cannot import name 'TreeStyle'"
     ]
    }
   ],
   "source": [
    "from ete3 import PhyloTree, TreeStyle"
   ]
  },
  {
   "cell_type": "code",
   "execution_count": null,
   "metadata": {
    "collapsed": true
   },
   "outputs": [],
   "source": []
  }
 ],
 "metadata": {
  "kernelspec": {
   "display_name": "Python 3",
   "language": "python",
   "name": "python3"
  },
  "language_info": {
   "codemirror_mode": {
    "name": "ipython",
    "version": 3
   },
   "file_extension": ".py",
   "mimetype": "text/x-python",
   "name": "python",
   "nbconvert_exporter": "python",
   "pygments_lexer": "ipython3",
   "version": "3.5.2"
  }
 },
 "nbformat": 4,
 "nbformat_minor": 2
}
