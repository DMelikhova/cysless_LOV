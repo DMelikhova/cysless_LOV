{
 "cells": [
  {
   "cell_type": "markdown",
   "metadata": {},
   "source": [
    "### Парсинг файлов после MAST "
   ]
  },
  {
   "cell_type": "code",
   "execution_count": 1,
   "metadata": {},
   "outputs": [],
   "source": [
    "from bs4 import BeautifulSoup"
   ]
  },
  {
   "cell_type": "code",
   "execution_count": 3,
   "metadata": {},
   "outputs": [],
   "source": [
    "with open(\"mast_interpro_1_cl.xml\",\"r\") as f:\n",
    "    contents = f.read()\n",
    "soup = BeautifulSoup(contents,'xml')"
   ]
  },
  {
   "cell_type": "code",
   "execution_count": 4,
   "metadata": {},
   "outputs": [
    {
     "data": {
      "text/plain": [
       "['35', '31', '29']"
      ]
     },
     "execution_count": 4,
     "metadata": {},
     "output_type": "execute_result"
    }
   ],
   "source": [
    "motifs = soup.motifs.findAll('motif')\n",
    "length = [motif['length'] for motif in motifs]\n",
    "length"
   ]
  },
  {
   "cell_type": "markdown",
   "metadata": {},
   "source": [
    "На 24 месте в первом мотиве не должен стоять Cys. Проверим это и запишем проверенные сиквенсы в отдельные файл."
   ]
  },
  {
   "cell_type": "code",
   "execution_count": 5,
   "metadata": {},
   "outputs": [],
   "source": [
    "sequences = soup.sequences.findAll('sequence')"
   ]
  },
  {
   "cell_type": "code",
   "execution_count": 6,
   "metadata": {},
   "outputs": [],
   "source": [
    "import re\n",
    "reg = re.compile('[^a-zA-Z ]')"
   ]
  },
  {
   "cell_type": "code",
   "execution_count": null,
   "metadata": {},
   "outputs": [],
   "source": [
    "Cys_seq_names = set()\n",
    "Cys_seq = set()\n",
    "for seq in sequences:\n",
    "    for seg in seq.find_all('seg'):\n",
    "        if bool(seg.find(idx = '0')) == True:\n",
    "            if reg.sub('', seg.data.string)[int(seg.find(idx = '0')['pos']) - int(seg['start']) + 23] != 'C':\n",
    "                Cys_seq_names.add(seq['name'])\n",
    "                Cys_seq.add(seq)"
   ]
  },
  {
   "cell_type": "code",
   "execution_count": null,
   "metadata": {},
   "outputs": [],
   "source": [
    "with open('Cysless_sequences_4.xml', 'w') as f:\n",
    "    for i in Cys_seq:\n",
    "        f.write(str(i) + '\\n')"
   ]
  },
  {
   "cell_type": "markdown",
   "metadata": {},
   "source": [
    "Отдельно запишем данные в формате fasta"
   ]
  },
  {
   "cell_type": "code",
   "execution_count": null,
   "metadata": {},
   "outputs": [],
   "source": [
    "with open('protein_4.txt', 'r') as f:\n",
    "    fasta = {}\n",
    "    for line in map(lambda st: st.rstrip('\\n'), f):\n",
    "        if line.startswith('>'):\n",
    "            name = line\n",
    "        else:\n",
    "            fasta.setdefault(name, []).append(line)"
   ]
  },
  {
   "cell_type": "code",
   "execution_count": null,
   "metadata": {},
   "outputs": [],
   "source": [
    "new_file = []\n",
    "for name in Cys_seq_names:\n",
    "    new_file.append('>' + name + '\\n')\n",
    "    for s in fasta.get('>' + name):\n",
    "        new_file.append(s + '\\n')"
   ]
  },
  {
   "cell_type": "code",
   "execution_count": null,
   "metadata": {},
   "outputs": [],
   "source": [
    "with open('Cysless_proteins_4.fasta', 'w') as f:\n",
    "    f.write(''.join(new_file))import pandas as pd"
   ]
  },
  {
   "cell_type": "markdown",
   "metadata": {},
   "source": [
    "### Парсинг результатов pfam"
   ]
  },
  {
   "cell_type": "code",
   "execution_count": 4,
   "metadata": {},
   "outputs": [],
   "source": [
    "import pandas as pd"
   ]
  },
  {
   "cell_type": "markdown",
   "metadata": {},
   "source": [
    "Переведем txt таблицу в удобный нам пандас."
   ]
  },
  {
   "cell_type": "code",
   "execution_count": 62,
   "metadata": {},
   "outputs": [],
   "source": [
    "columns = []\n",
    "d = []\n",
    "with open('pfam_4_cl.txt', 'r') as f:\n",
    "    for line in f:\n",
    "        if line.startswith('<'):\n",
    "            columns = line.split('> <')\n",
    "        else:\n",
    "            d.append(line.split())\n",
    "columns[0] = columns[0].strip('<')\n",
    "columns[-1] = columns[-1].strip('>\\n')"
   ]
  },
  {
   "cell_type": "code",
   "execution_count": 63,
   "metadata": {},
   "outputs": [
    {
     "data": {
      "text/html": [
       "<div>\n",
       "<style scoped>\n",
       "    .dataframe tbody tr th:only-of-type {\n",
       "        vertical-align: middle;\n",
       "    }\n",
       "\n",
       "    .dataframe tbody tr th {\n",
       "        vertical-align: top;\n",
       "    }\n",
       "\n",
       "    .dataframe thead th {\n",
       "        text-align: right;\n",
       "    }\n",
       "</style>\n",
       "<table border=\"1\" class=\"dataframe\">\n",
       "  <thead>\n",
       "    <tr style=\"text-align: right;\">\n",
       "      <th></th>\n",
       "      <th>seq id</th>\n",
       "      <th>alignment start</th>\n",
       "      <th>alignment end</th>\n",
       "      <th>envelope start</th>\n",
       "      <th>envelope end</th>\n",
       "      <th>hmm acc</th>\n",
       "      <th>hmm name</th>\n",
       "      <th>type</th>\n",
       "      <th>hmm start</th>\n",
       "      <th>hmm end</th>\n",
       "      <th>hmm length</th>\n",
       "      <th>bit score</th>\n",
       "      <th>E-value</th>\n",
       "      <th>significance</th>\n",
       "      <th>clan</th>\n",
       "    </tr>\n",
       "  </thead>\n",
       "  <tbody>\n",
       "    <tr>\n",
       "      <th>0</th>\n",
       "      <td>M1FCN8</td>\n",
       "      <td>32</td>\n",
       "      <td>128</td>\n",
       "      <td>22</td>\n",
       "      <td>129</td>\n",
       "      <td>PF13426.7</td>\n",
       "      <td>PAS_9</td>\n",
       "      <td>Domain</td>\n",
       "      <td>11</td>\n",
       "      <td>103</td>\n",
       "      <td>104</td>\n",
       "      <td>76.6</td>\n",
       "      <td>1.5e-21</td>\n",
       "      <td>1</td>\n",
       "      <td>CL0183</td>\n",
       "    </tr>\n",
       "    <tr>\n",
       "      <th>1</th>\n",
       "      <td>M1FCN8</td>\n",
       "      <td>148</td>\n",
       "      <td>251</td>\n",
       "      <td>148</td>\n",
       "      <td>251</td>\n",
       "      <td>PF13426.7</td>\n",
       "      <td>PAS_9</td>\n",
       "      <td>Domain</td>\n",
       "      <td>1</td>\n",
       "      <td>104</td>\n",
       "      <td>104</td>\n",
       "      <td>64.4</td>\n",
       "      <td>9.1e-18</td>\n",
       "      <td>1</td>\n",
       "      <td>CL0183</td>\n",
       "    </tr>\n",
       "    <tr>\n",
       "      <th>2</th>\n",
       "      <td>M1FCN8</td>\n",
       "      <td>265</td>\n",
       "      <td>416</td>\n",
       "      <td>263</td>\n",
       "      <td>416</td>\n",
       "      <td>PF00990.21</td>\n",
       "      <td>GGDEF</td>\n",
       "      <td>Domain</td>\n",
       "      <td>3</td>\n",
       "      <td>161</td>\n",
       "      <td>161</td>\n",
       "      <td>125.5</td>\n",
       "      <td>1.5e-36</td>\n",
       "      <td>1</td>\n",
       "      <td>CL0276</td>\n",
       "    </tr>\n",
       "    <tr>\n",
       "      <th>3</th>\n",
       "      <td>V4Y023</td>\n",
       "      <td>135</td>\n",
       "      <td>236</td>\n",
       "      <td>134</td>\n",
       "      <td>236</td>\n",
       "      <td>PF13426.7</td>\n",
       "      <td>PAS_9</td>\n",
       "      <td>Domain</td>\n",
       "      <td>2</td>\n",
       "      <td>104</td>\n",
       "      <td>104</td>\n",
       "      <td>42.9</td>\n",
       "      <td>4.7e-11</td>\n",
       "      <td>1</td>\n",
       "      <td>CL0183</td>\n",
       "    </tr>\n",
       "    <tr>\n",
       "      <th>4</th>\n",
       "      <td>V4Y023</td>\n",
       "      <td>257</td>\n",
       "      <td>361</td>\n",
       "      <td>255</td>\n",
       "      <td>361</td>\n",
       "      <td>PF13426.7</td>\n",
       "      <td>PAS_9</td>\n",
       "      <td>Domain</td>\n",
       "      <td>3</td>\n",
       "      <td>104</td>\n",
       "      <td>104</td>\n",
       "      <td>76.0</td>\n",
       "      <td>2.3e-21</td>\n",
       "      <td>1</td>\n",
       "      <td>CL0183</td>\n",
       "    </tr>\n",
       "  </tbody>\n",
       "</table>\n",
       "</div>"
      ],
      "text/plain": [
       "   seq id alignment start alignment end envelope start envelope end  \\\n",
       "0  M1FCN8              32           128             22          129   \n",
       "1  M1FCN8             148           251            148          251   \n",
       "2  M1FCN8             265           416            263          416   \n",
       "3  V4Y023             135           236            134          236   \n",
       "4  V4Y023             257           361            255          361   \n",
       "\n",
       "      hmm acc hmm name    type hmm start hmm end hmm length bit score  \\\n",
       "0   PF13426.7    PAS_9  Domain        11     103        104      76.6   \n",
       "1   PF13426.7    PAS_9  Domain         1     104        104      64.4   \n",
       "2  PF00990.21    GGDEF  Domain         3     161        161     125.5   \n",
       "3   PF13426.7    PAS_9  Domain         2     104        104      42.9   \n",
       "4   PF13426.7    PAS_9  Domain         3     104        104      76.0   \n",
       "\n",
       "   E-value significance    clan  \n",
       "0  1.5e-21            1  CL0183  \n",
       "1  9.1e-18            1  CL0183  \n",
       "2  1.5e-36            1  CL0276  \n",
       "3  4.7e-11            1  CL0183  \n",
       "4  2.3e-21            1  CL0183  "
      ]
     },
     "execution_count": 63,
     "metadata": {},
     "output_type": "execute_result"
    }
   ],
   "source": [
    "data = pd.DataFrame(d, columns=columns)\n",
    "data.head()"
   ]
  },
  {
   "cell_type": "markdown",
   "metadata": {},
   "source": [
    "### Идентифекация LOV "
   ]
  },
  {
   "cell_type": "markdown",
   "metadata": {},
   "source": [
    "Отбор по отсутствию Cys уже прошел, поэтому необходимо отсеять по p-value. "
   ]
  },
  {
   "cell_type": "code",
   "execution_count": 116,
   "metadata": {},
   "outputs": [],
   "source": [
    "with open(\"Cysless_sequences_4.xml\",\"r\") as f:\n",
    "    contents = f.read()\n",
    "soup = BeautifulSoup(contents,'xml')"
   ]
  },
  {
   "cell_type": "markdown",
   "metadata": {},
   "source": [
    "Отобрали dictionary нужных наименований со списком позиций трех мотивов (этих троек мб несколько в последовательности)"
   ]
  },
  {
   "cell_type": "code",
   "execution_count": 117,
   "metadata": {},
   "outputs": [],
   "source": [
    "sequences = soup.sequences.find_all('sequence')\n",
    "seqs = {}\n",
    "for seq in sequences:\n",
    "    for seg in seq.find_all('seg'):\n",
    "        if (bool(seg.find(idx = '0')) == True and bool(seg.find(idx = '1')) == True and bool(seg.find(idx = '2')) == True):\n",
    "            hits = seg.find_all('hit')\n",
    "            if (float(hits[0]['pvalue']) <= 1e-15 and float(hits[1]['pvalue']) <= 1e-15 and float(hits[2]['pvalue']) <= 1e-15):\n",
    "                seqs.setdefault(seq['name'], []).append([int(hits[0]['pos']), int(hits[1]['pos']), \n",
    "                                                         int(hits[2]['pos'])])"
   ]
  },
  {
   "cell_type": "code",
   "execution_count": 118,
   "metadata": {},
   "outputs": [],
   "source": [
    "new_names = []\n",
    "wrong = []\n",
    "for k in seqs.keys():\n",
    "    seq_data = data.loc[data['seq id'] == k] # data - таблица с результатами pfam, здесь отсев по id\n",
    "    df = seq_data.loc[seq_data['clan'] == 'CL0183'] # здесь отсев по id клана (группы) домена PAS\n",
    "    b = False\n",
    "    for hit in seqs[k]:\n",
    "        for i in range(df.shape[0]):\n",
    "            if int(df.iloc[i, 3]) - hit[0] <= 2 and hit[2] + 28 - int(df.iloc[i, 4]) <= 10:\n",
    "                b = True\n",
    "    if not b:\n",
    "        data.drop(data[data['seq id'] == k].index, inplace=True)\n",
    "        wrong.append(k)\n",
    "    else:\n",
    "        new_names.append(k)   "
   ]
  },
  {
   "cell_type": "code",
   "execution_count": 119,
   "metadata": {},
   "outputs": [],
   "source": [
    "with open('/home/dashik/projects/181015_conf_mipt_18/protein_4.txt', 'r') as f:\n",
    "    fasta = {}\n",
    "    for line in map(lambda st: st.rstrip('\\n'), f):\n",
    "        if line.startswith('>'):\n",
    "            name = line\n",
    "        else:\n",
    "            fasta.setdefault(name, []).append(line)"
   ]
  },
  {
   "cell_type": "code",
   "execution_count": 120,
   "metadata": {},
   "outputs": [],
   "source": [
    "new_file = []\n",
    "for name in new_names:\n",
    "    new_file.append('>' + name + '\\n')\n",
    "    for s in fasta.get('>' + name):\n",
    "        new_file.append(s + '\\n')"
   ]
  },
  {
   "cell_type": "code",
   "execution_count": 121,
   "metadata": {},
   "outputs": [],
   "source": [
    "with open('final_proteins_4_cl.fasta', 'w') as f:\n",
    "    f.write(''.join(new_file))"
   ]
  },
  {
   "cell_type": "markdown",
   "metadata": {},
   "source": [
    "Проверим на пересечения"
   ]
  },
  {
   "cell_type": "code",
   "execution_count": 122,
   "metadata": {},
   "outputs": [],
   "source": [
    "with open('/home/dashik/projects/181015_conf_mipt_18/With_Cys/final_proteins_4.fasta', 'r') as f:\n",
    "    fasta = {}\n",
    "    for line in map(lambda st: st.rstrip('\\n'), f):\n",
    "        if line.startswith('>'):\n",
    "            name = line\n",
    "        else:\n",
    "            fasta.setdefault(name, []).append(line)"
   ]
  },
  {
   "cell_type": "code",
   "execution_count": 123,
   "metadata": {},
   "outputs": [],
   "source": [
    "with open('final_proteins_4_cl.fasta', 'r') as f:\n",
    "    fasta_cl = {}\n",
    "    for line in map(lambda st: st.rstrip('\\n'), f):\n",
    "        if line.startswith('>'):\n",
    "            name = line\n",
    "        else:\n",
    "            fasta_cl.setdefault(name, []).append(line)"
   ]
  },
  {
   "cell_type": "code",
   "execution_count": 124,
   "metadata": {},
   "outputs": [
    {
     "data": {
      "text/plain": [
       "77"
      ]
     },
     "execution_count": 124,
     "metadata": {},
     "output_type": "execute_result"
    }
   ],
   "source": [
    "repeat = list(fasta.keys() & fasta_cl.keys())\n",
    "len(repeat)"
   ]
  },
  {
   "cell_type": "code",
   "execution_count": 125,
   "metadata": {},
   "outputs": [],
   "source": [
    "for r in repeat:\n",
    "    fasta_cl.pop(r)"
   ]
  },
  {
   "cell_type": "code",
   "execution_count": 126,
   "metadata": {},
   "outputs": [],
   "source": [
    "new_file = []\n",
    "for name in fasta_cl.keys():\n",
    "    new_file.append(name + '\\n')\n",
    "    for s in fasta_cl.get(name):\n",
    "        new_file.append(s + '\\n')\n",
    "with open('final_proteins_4_cl.fasta', 'w') as f:\n",
    "    f.write(''.join(new_file))"
   ]
  },
  {
   "cell_type": "markdown",
   "metadata": {},
   "source": [
    "Удалили повторы и объеденили финальные последоватеьнсти в оди файл, для построения дерева и выравнивания белковых последовательностей."
   ]
  },
  {
   "cell_type": "code",
   "execution_count": 1,
   "metadata": {},
   "outputs": [],
   "source": [
    " # data - df pfam\n",
    "'''Доступ к Uniprot'''\n",
    "from Bio import ExPASy\n",
    "from Bio import SwissProt\n",
    "from tqdm import trange"
   ]
  },
  {
   "cell_type": "code",
   "execution_count": 2,
   "metadata": {},
   "outputs": [],
   "source": [
    "def kingdom(s):\n",
    "    handle = ExPASy.get_sprot_raw(s[0])\n",
    "    try:\n",
    "        record = SwissProt.read(handle)\n",
    "        return record.organism_classification[0] + ' ' + record.organism_classification[1]\n",
    "    except ValueError:\n",
    "        return None"
   ]
  },
  {
   "cell_type": "code",
   "execution_count": 64,
   "metadata": {},
   "outputs": [],
   "source": [
    "data['kingdom'] = None"
   ]
  },
  {
   "cell_type": "code",
   "execution_count": 65,
   "metadata": {},
   "outputs": [],
   "source": [
    "with open('final_proteins_4_cl.fasta', 'r') as f:\n",
    "    fasta = {}\n",
    "    for line in map(lambda st: st.rstrip('\\n'), f):\n",
    "        if line.startswith('>'):\n",
    "            name = line.lstrip('>')\n",
    "        else:\n",
    "            fasta.setdefault(name, []).append(line)        "
   ]
  },
  {
   "cell_type": "code",
   "execution_count": 66,
   "metadata": {},
   "outputs": [
    {
     "data": {
      "text/plain": [
       "69"
      ]
     },
     "execution_count": 66,
     "metadata": {},
     "output_type": "execute_result"
    }
   ],
   "source": [
    "len(fasta)"
   ]
  },
  {
   "cell_type": "code",
   "execution_count": 67,
   "metadata": {},
   "outputs": [],
   "source": [
    "new_data = pd.DataFrame()\n",
    "for k in fasta.keys():\n",
    "    new_data = pd.concat([new_data, data.loc[data['seq id'] == k, :]], ignore_index=True)"
   ]
  },
  {
   "cell_type": "code",
   "execution_count": 69,
   "metadata": {},
   "outputs": [
    {
     "name": "stderr",
     "output_type": "stream",
     "text": [
      "100%|██████████| 400/400 [05:46<00:00,  1.12it/s]\n"
     ]
    }
   ],
   "source": [
    "for i in trange(400):\n",
    "    new_data.iloc[i, 15] = kingdom(new_data.iloc[i,:])"
   ]
  },
  {
   "cell_type": "code",
   "execution_count": 68,
   "metadata": {},
   "outputs": [
    {
     "data": {
      "text/plain": [
       "(400, 16)"
      ]
     },
     "execution_count": 68,
     "metadata": {},
     "output_type": "execute_result"
    }
   ],
   "source": [
    "new_data.shape"
   ]
  },
  {
   "cell_type": "code",
   "execution_count": 70,
   "metadata": {},
   "outputs": [],
   "source": [
    "tfile = open('domains_4_cl.csv', 'w')\n",
    "tfile.write(new_data.to_csv())\n",
    "tfile.close()"
   ]
  },
  {
   "cell_type": "code",
   "execution_count": 61,
   "metadata": {},
   "outputs": [
    {
     "data": {
      "text/html": [
       "<div>\n",
       "<style scoped>\n",
       "    .dataframe tbody tr th:only-of-type {\n",
       "        vertical-align: middle;\n",
       "    }\n",
       "\n",
       "    .dataframe tbody tr th {\n",
       "        vertical-align: top;\n",
       "    }\n",
       "\n",
       "    .dataframe thead th {\n",
       "        text-align: right;\n",
       "    }\n",
       "</style>\n",
       "<table border=\"1\" class=\"dataframe\">\n",
       "  <thead>\n",
       "    <tr style=\"text-align: right;\">\n",
       "      <th></th>\n",
       "      <th>seq id</th>\n",
       "      <th>alignment start</th>\n",
       "      <th>alignment end</th>\n",
       "      <th>envelope start</th>\n",
       "      <th>envelope end</th>\n",
       "      <th>hmm acc</th>\n",
       "      <th>hmm name</th>\n",
       "      <th>type</th>\n",
       "      <th>hmm start</th>\n",
       "      <th>hmm end</th>\n",
       "      <th>hmm length</th>\n",
       "      <th>bit score</th>\n",
       "      <th>E-value</th>\n",
       "      <th>significance</th>\n",
       "      <th>clan</th>\n",
       "      <th>kingdom</th>\n",
       "    </tr>\n",
       "  </thead>\n",
       "  <tbody>\n",
       "    <tr>\n",
       "      <th>0</th>\n",
       "      <td>A0A2T6DB03</td>\n",
       "      <td>7</td>\n",
       "      <td>113</td>\n",
       "      <td>7</td>\n",
       "      <td>117</td>\n",
       "      <td>PF00072.24</td>\n",
       "      <td>Response_reg</td>\n",
       "      <td>Domain</td>\n",
       "      <td>1</td>\n",
       "      <td>108</td>\n",
       "      <td>112</td>\n",
       "      <td>56.3</td>\n",
       "      <td>3.1e-15</td>\n",
       "      <td>1</td>\n",
       "      <td>CL0304</td>\n",
       "      <td>None</td>\n",
       "    </tr>\n",
       "    <tr>\n",
       "      <th>1</th>\n",
       "      <td>A0A2T6DB03</td>\n",
       "      <td>165</td>\n",
       "      <td>249</td>\n",
       "      <td>164</td>\n",
       "      <td>249</td>\n",
       "      <td>PF08447.12</td>\n",
       "      <td>PAS_3</td>\n",
       "      <td>Domain</td>\n",
       "      <td>2</td>\n",
       "      <td>89</td>\n",
       "      <td>89</td>\n",
       "      <td>58.6</td>\n",
       "      <td>5.5e-16</td>\n",
       "      <td>1</td>\n",
       "      <td>CL0183</td>\n",
       "      <td>None</td>\n",
       "    </tr>\n",
       "    <tr>\n",
       "      <th>2</th>\n",
       "      <td>A0A2T6DB03</td>\n",
       "      <td>275</td>\n",
       "      <td>381</td>\n",
       "      <td>273</td>\n",
       "      <td>381</td>\n",
       "      <td>PF13426.7</td>\n",
       "      <td>PAS_9</td>\n",
       "      <td>Domain</td>\n",
       "      <td>3</td>\n",
       "      <td>104</td>\n",
       "      <td>104</td>\n",
       "      <td>67.8</td>\n",
       "      <td>8e-19</td>\n",
       "      <td>1</td>\n",
       "      <td>CL0183</td>\n",
       "      <td>None</td>\n",
       "    </tr>\n",
       "    <tr>\n",
       "      <th>3</th>\n",
       "      <td>A0A2T6DB03</td>\n",
       "      <td>526</td>\n",
       "      <td>631</td>\n",
       "      <td>524</td>\n",
       "      <td>632</td>\n",
       "      <td>PF08448.10</td>\n",
       "      <td>PAS_4</td>\n",
       "      <td>Domain</td>\n",
       "      <td>3</td>\n",
       "      <td>109</td>\n",
       "      <td>110</td>\n",
       "      <td>34.7</td>\n",
       "      <td>1.6e-08</td>\n",
       "      <td>1</td>\n",
       "      <td>CL0183</td>\n",
       "      <td>None</td>\n",
       "    </tr>\n",
       "    <tr>\n",
       "      <th>4</th>\n",
       "      <td>A0A2T6DB03</td>\n",
       "      <td>647</td>\n",
       "      <td>706</td>\n",
       "      <td>645</td>\n",
       "      <td>710</td>\n",
       "      <td>PF00512.25</td>\n",
       "      <td>HisKA</td>\n",
       "      <td>Domain</td>\n",
       "      <td>3</td>\n",
       "      <td>63</td>\n",
       "      <td>67</td>\n",
       "      <td>29.4</td>\n",
       "      <td>5.8e-07</td>\n",
       "      <td>1</td>\n",
       "      <td>CL0025</td>\n",
       "      <td>None</td>\n",
       "    </tr>\n",
       "  </tbody>\n",
       "</table>\n",
       "</div>"
      ],
      "text/plain": [
       "       seq id alignment start alignment end envelope start envelope end  \\\n",
       "0  A0A2T6DB03               7           113              7          117   \n",
       "1  A0A2T6DB03             165           249            164          249   \n",
       "2  A0A2T6DB03             275           381            273          381   \n",
       "3  A0A2T6DB03             526           631            524          632   \n",
       "4  A0A2T6DB03             647           706            645          710   \n",
       "\n",
       "      hmm acc      hmm name    type hmm start hmm end hmm length bit score  \\\n",
       "0  PF00072.24  Response_reg  Domain         1     108        112      56.3   \n",
       "1  PF08447.12         PAS_3  Domain         2      89         89      58.6   \n",
       "2   PF13426.7         PAS_9  Domain         3     104        104      67.8   \n",
       "3  PF08448.10         PAS_4  Domain         3     109        110      34.7   \n",
       "4  PF00512.25         HisKA  Domain         3      63         67      29.4   \n",
       "\n",
       "   E-value significance    clan kingdom  \n",
       "0  3.1e-15            1  CL0304    None  \n",
       "1  5.5e-16            1  CL0183    None  \n",
       "2    8e-19            1  CL0183    None  \n",
       "3  1.6e-08            1  CL0183    None  \n",
       "4  5.8e-07            1  CL0025    None  "
      ]
     },
     "execution_count": 61,
     "metadata": {},
     "output_type": "execute_result"
    }
   ],
   "source": [
    "data.head()"
   ]
  },
  {
   "cell_type": "markdown",
   "metadata": {},
   "source": [
    "#### Находим LOV"
   ]
  },
  {
   "cell_type": "code",
   "execution_count": 187,
   "metadata": {},
   "outputs": [],
   "source": [
    "from bs4 import BeautifulSoup\n",
    "with open(\"Cysless_sequences_4.xml\",\"r\") as f:\n",
    "    contents = f.read()\n",
    "soup = BeautifulSoup(contents,'xml')\n",
    "\n",
    "sequences = soup.sequences.findAll('sequence')"
   ]
  },
  {
   "cell_type": "code",
   "execution_count": 188,
   "metadata": {},
   "outputs": [],
   "source": [
    "seqs = {}\n",
    "for seq in sequences:\n",
    "    for seg in seq.find_all('seg'):\n",
    "        if (bool(seg.find(idx = '0')) == True and bool(seg.find(idx = '1')) == True and bool(seg.find(idx = '2')) == True):\n",
    "            hits = seg.find_all('hit')\n",
    "            if (float(hits[0]['pvalue']) <= 1e-15 and float(hits[1]['pvalue']) <= 1e-15 and float(hits[2]['pvalue']) <= 1e-15):\n",
    "                seqs.setdefault(seq['name'], []).append([int(hits[0]['pos']), int(hits[1]['pos']), \n",
    "                                                         int(hits[2]['pos'])])"
   ]
  },
  {
   "cell_type": "code",
   "execution_count": 189,
   "metadata": {},
   "outputs": [],
   "source": [
    "with open('final_proteins_4_cl.fasta', 'r') as f:\n",
    "    fasta = {}\n",
    "    for line in map(lambda st: st.rstrip('\\n'), f):\n",
    "        if line.startswith('>'):\n",
    "            name = line.lstrip('>')\n",
    "        else:\n",
    "            fasta.setdefault(name, []).append(line)"
   ]
  },
  {
   "cell_type": "code",
   "execution_count": 190,
   "metadata": {},
   "outputs": [],
   "source": [
    "new_seq = {}\n",
    "for key in seqs.keys():\n",
    "    if key in fasta:\n",
    "        new_seq[key] = seqs[key]\n",
    "seqs = new_seq"
   ]
  },
  {
   "cell_type": "code",
   "execution_count": 191,
   "metadata": {},
   "outputs": [],
   "source": [
    "data = pd.read_csv('domains_4_cl.csv')"
   ]
  },
  {
   "cell_type": "code",
   "execution_count": 172,
   "metadata": {},
   "outputs": [],
   "source": [
    "def IfLOV(row):\n",
    "    if row['clan'] == 'CL0183':\n",
    "        for hit in seqs[row['seq id']]:\n",
    "            if (int(row[3]) - hit[0]) <=5 and (hit[2] + 29 - int(row[4])) <= 15:\n",
    "                return 'LOV'\n",
    "            else: \n",
    "                return row['hmm name']\n",
    "    else:\n",
    "        return row['hmm name']"
   ]
  },
  {
   "cell_type": "code",
   "execution_count": 193,
   "metadata": {},
   "outputs": [
    {
     "data": {
      "text/html": [
       "<div>\n",
       "<style scoped>\n",
       "    .dataframe tbody tr th:only-of-type {\n",
       "        vertical-align: middle;\n",
       "    }\n",
       "\n",
       "    .dataframe tbody tr th {\n",
       "        vertical-align: top;\n",
       "    }\n",
       "\n",
       "    .dataframe thead th {\n",
       "        text-align: right;\n",
       "    }\n",
       "</style>\n",
       "<table border=\"1\" class=\"dataframe\">\n",
       "  <thead>\n",
       "    <tr style=\"text-align: right;\">\n",
       "      <th></th>\n",
       "      <th>seq id</th>\n",
       "      <th>alignment start</th>\n",
       "      <th>alignment end</th>\n",
       "      <th>envelope start</th>\n",
       "      <th>envelope end</th>\n",
       "      <th>hmm acc</th>\n",
       "      <th>hmm name</th>\n",
       "      <th>type</th>\n",
       "      <th>hmm start</th>\n",
       "      <th>hmm end</th>\n",
       "      <th>hmm length</th>\n",
       "      <th>bit score</th>\n",
       "      <th>E-value</th>\n",
       "      <th>significance</th>\n",
       "      <th>clan</th>\n",
       "      <th>kingdom</th>\n",
       "    </tr>\n",
       "  </thead>\n",
       "  <tbody>\n",
       "    <tr>\n",
       "      <th>0</th>\n",
       "      <td>M0D0B1</td>\n",
       "      <td>18</td>\n",
       "      <td>105</td>\n",
       "      <td>14</td>\n",
       "      <td>116</td>\n",
       "      <td>PF00072.24</td>\n",
       "      <td>Response_reg</td>\n",
       "      <td>Domain</td>\n",
       "      <td>14</td>\n",
       "      <td>102</td>\n",
       "      <td>112</td>\n",
       "      <td>44.9</td>\n",
       "      <td>1.100000e-11</td>\n",
       "      <td>1</td>\n",
       "      <td>CL0304</td>\n",
       "      <td>Archaea Euryarchaeota</td>\n",
       "    </tr>\n",
       "    <tr>\n",
       "      <th>1</th>\n",
       "      <td>M0D0B1</td>\n",
       "      <td>152</td>\n",
       "      <td>256</td>\n",
       "      <td>150</td>\n",
       "      <td>256</td>\n",
       "      <td>PF13426.7</td>\n",
       "      <td>LOV</td>\n",
       "      <td>Domain</td>\n",
       "      <td>3</td>\n",
       "      <td>104</td>\n",
       "      <td>104</td>\n",
       "      <td>72.9</td>\n",
       "      <td>2.200000e-20</td>\n",
       "      <td>1</td>\n",
       "      <td>CL0183</td>\n",
       "      <td>Archaea Euryarchaeota</td>\n",
       "    </tr>\n",
       "    <tr>\n",
       "      <th>2</th>\n",
       "      <td>M0D0B1</td>\n",
       "      <td>307</td>\n",
       "      <td>435</td>\n",
       "      <td>299</td>\n",
       "      <td>436</td>\n",
       "      <td>PF13185.6</td>\n",
       "      <td>GAF_2</td>\n",
       "      <td>Domain</td>\n",
       "      <td>9</td>\n",
       "      <td>137</td>\n",
       "      <td>138</td>\n",
       "      <td>34.6</td>\n",
       "      <td>2.100000e-08</td>\n",
       "      <td>1</td>\n",
       "      <td>CL0161</td>\n",
       "      <td>Archaea Euryarchaeota</td>\n",
       "    </tr>\n",
       "    <tr>\n",
       "      <th>3</th>\n",
       "      <td>M0D0B1</td>\n",
       "      <td>447</td>\n",
       "      <td>600</td>\n",
       "      <td>447</td>\n",
       "      <td>600</td>\n",
       "      <td>PF15915.5</td>\n",
       "      <td>BAT</td>\n",
       "      <td>Domain</td>\n",
       "      <td>1</td>\n",
       "      <td>156</td>\n",
       "      <td>156</td>\n",
       "      <td>122.6</td>\n",
       "      <td>1.300000e-35</td>\n",
       "      <td>1</td>\n",
       "      <td>No_clan</td>\n",
       "      <td>Archaea Euryarchaeota</td>\n",
       "    </tr>\n",
       "    <tr>\n",
       "      <th>4</th>\n",
       "      <td>M0D0B1</td>\n",
       "      <td>606</td>\n",
       "      <td>658</td>\n",
       "      <td>606</td>\n",
       "      <td>658</td>\n",
       "      <td>PF04967.12</td>\n",
       "      <td>HTH_10</td>\n",
       "      <td>Domain</td>\n",
       "      <td>1</td>\n",
       "      <td>53</td>\n",
       "      <td>53</td>\n",
       "      <td>73.5</td>\n",
       "      <td>8.300000e-21</td>\n",
       "      <td>1</td>\n",
       "      <td>CL0123</td>\n",
       "      <td>Archaea Euryarchaeota</td>\n",
       "    </tr>\n",
       "  </tbody>\n",
       "</table>\n",
       "</div>"
      ],
      "text/plain": [
       "   seq id  alignment start  alignment end  envelope start  envelope end  \\\n",
       "0  M0D0B1               18            105              14           116   \n",
       "1  M0D0B1              152            256             150           256   \n",
       "2  M0D0B1              307            435             299           436   \n",
       "3  M0D0B1              447            600             447           600   \n",
       "4  M0D0B1              606            658             606           658   \n",
       "\n",
       "      hmm acc      hmm name    type  hmm start  hmm end  hmm length  \\\n",
       "0  PF00072.24  Response_reg  Domain         14      102         112   \n",
       "1   PF13426.7           LOV  Domain          3      104         104   \n",
       "2   PF13185.6         GAF_2  Domain          9      137         138   \n",
       "3   PF15915.5           BAT  Domain          1      156         156   \n",
       "4  PF04967.12        HTH_10  Domain          1       53          53   \n",
       "\n",
       "   bit score       E-value  significance     clan                kingdom  \n",
       "0       44.9  1.100000e-11             1   CL0304  Archaea Euryarchaeota  \n",
       "1       72.9  2.200000e-20             1   CL0183  Archaea Euryarchaeota  \n",
       "2       34.6  2.100000e-08             1   CL0161  Archaea Euryarchaeota  \n",
       "3      122.6  1.300000e-35             1  No_clan  Archaea Euryarchaeota  \n",
       "4       73.5  8.300000e-21             1   CL0123  Archaea Euryarchaeota  "
      ]
     },
     "execution_count": 193,
     "metadata": {},
     "output_type": "execute_result"
    }
   ],
   "source": [
    "data.head()"
   ]
  },
  {
   "cell_type": "code",
   "execution_count": 192,
   "metadata": {},
   "outputs": [],
   "source": [
    "data['hmm name'] = data.apply(IfLOV, axis = 1)"
   ]
  },
  {
   "cell_type": "markdown",
   "metadata": {},
   "source": [
    "#### Находим TLOV "
   ]
  },
  {
   "cell_type": "code",
   "execution_count": 194,
   "metadata": {},
   "outputs": [
    {
     "name": "stderr",
     "output_type": "stream",
     "text": [
      "100%|██████████| 69/69 [00:00<00:00, 363.84it/s]\n"
     ]
    }
   ],
   "source": [
    "from tqdm import tqdm\n",
    "\n",
    "for name in tqdm(seqs.keys()):\n",
    "    indexes = data[(data['seq id'] == name) & (data['hmm name'] == 'LOV')].index.values\n",
    "    for i in indexes[:-1]:\n",
    "        if (data.loc[i+1, 'hmm name'] == 'LOV' and \n",
    "            int(data.loc[i+1, 'envelope start']) - int(data.loc[i, 'envelope end']) <= 125):\n",
    "            data.loc[i, 'envelope end'] = data.loc[i+1, 'envelope end']\n",
    "            data.loc[i, 'hmm name'], data.loc[i+1, 'hmm name'] = 'TLOV', '_LOV'"
   ]
  },
  {
   "cell_type": "code",
   "execution_count": 84,
   "metadata": {},
   "outputs": [],
   "source": [
    "data = data.loc[data['hmm name'] != '_LOV']"
   ]
  },
  {
   "cell_type": "code",
   "execution_count": 195,
   "metadata": {},
   "outputs": [],
   "source": [
    "tfile = open('domains_LOV_4_cl.csv', 'w')\n",
    "tfile.write(data.to_csv())\n",
    "tfile.close()"
   ]
  },
  {
   "cell_type": "code",
   "execution_count": null,
   "metadata": {},
   "outputs": [],
   "source": []
  }
 ],
 "metadata": {
  "kernelspec": {
   "display_name": "Python 3",
   "language": "python",
   "name": "python3"
  },
  "language_info": {
   "codemirror_mode": {
    "name": "ipython",
    "version": 3
   },
   "file_extension": ".py",
   "mimetype": "text/x-python",
   "name": "python",
   "nbconvert_exporter": "python",
   "pygments_lexer": "ipython3",
   "version": "3.6.6"
  }
 },
 "nbformat": 4,
 "nbformat_minor": 2
}
